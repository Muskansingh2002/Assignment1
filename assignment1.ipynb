{
 "cells": [
  {
   "cell_type": "markdown",
   "id": "2cc4203d-22db-43b9-ba35-e4c95ede58fd",
   "metadata": {},
   "source": [
    "Q1.Create one variable containing following type of data:\n",
    "(i) string\n",
    "(ii) list\n",
    "(iii) float\n",
    "(iv) tuple "
   ]
  },
  {
   "cell_type": "code",
   "execution_count": 1,
   "id": "9ab10697-1095-40eb-9884-ff0048e12994",
   "metadata": {},
   "outputs": [],
   "source": [
    "my_string = \"Hello,World!\"\n",
    "my_list = [1,2,3,4,5,6]\n",
    "my_float = 1.4\n",
    "my_tuple = (1,2,3,4,5,6)"
   ]
  },
  {
   "cell_type": "markdown",
   "id": "aa455533-5543-4252-9fc8-e089d0ef2215",
   "metadata": {},
   "source": [
    "Q2. Given are some following variables containing data:\n",
    "(i) var1 = ‘ ‘\n",
    "(ii) var2 = ‘[ DS , ML , Python]’\n",
    "(iii) var3 = [ ‘DS’ , ’ML’ , ‘Python’ ]\n",
    "(iv) var4 = 1.\n",
    "What will be the data type of the above given variable."
   ]
  },
  {
   "cell_type": "code",
   "execution_count": 4,
   "id": "0d7ca7b8-96e9-4ba7-a982-fdb45f6beee3",
   "metadata": {},
   "outputs": [
    {
     "name": "stdout",
     "output_type": "stream",
     "text": [
      "<class 'str'>\n",
      "<class 'str'>\n",
      "<class 'list'>\n",
      "<class 'float'>\n"
     ]
    }
   ],
   "source": [
    "var1 = '' \n",
    "var2 = '[ DS , ML , Python]' \n",
    "var3 = [ 'DS' , 'ML' , 'Python' ] \n",
    "var4 = 1.\n",
    "\n",
    "print(type(var1))\n",
    "print(type(var2))\n",
    "print(type(var3))\n",
    "print(type(var4))"
   ]
  },
  {
   "cell_type": "markdown",
   "id": "1ad355a0-4397-4e56-bca5-db1d10b7b61f",
   "metadata": {},
   "source": []
  },
  {
   "cell_type": "markdown",
   "id": "8cd0e967-694e-455a-a52a-104ff364a9d2",
   "metadata": {},
   "source": [
    "Q3. Explain the use of the following operators using an example:\n",
    "(i) /\n",
    "(ii) %\n",
    "(iii) //\n",
    "(iv) **"
   ]
  },
  {
   "cell_type": "code",
   "execution_count": null,
   "id": "02a7c76f-be8d-43f4-88c4-df10ef0b15de",
   "metadata": {},
   "outputs": [],
   "source": []
  },
  {
   "cell_type": "markdown",
   "id": "6c1be79e-52c5-405c-ac15-33e62373e54f",
   "metadata": {},
   "source": [
    " (i) '/' : Division operator , It is used for Division in python.It returns the quotient of the division operation.\n",
    " "
   ]
  },
  {
   "cell_type": "code",
   "execution_count": 1,
   "id": "b37cfcce-de00-425e-80a8-4e22abc695c6",
   "metadata": {},
   "outputs": [
    {
     "name": "stdout",
     "output_type": "stream",
     "text": [
      "3.3333333333333335\n"
     ]
    }
   ],
   "source": [
    "result=10/3\n",
    "print(result)"
   ]
  },
  {
   "cell_type": "code",
   "execution_count": null,
   "id": "d3f32045-a59f-4b6d-b7fb-1672a346a6f7",
   "metadata": {},
   "outputs": [],
   "source": []
  },
  {
   "cell_type": "markdown",
   "id": "259b19b3-5794-43c4-8c6e-3c5f1f08ba57",
   "metadata": {},
   "source": [
    " (ii) '%' :Moduler Operator, it returns the remainder of the division operation. "
   ]
  },
  {
   "cell_type": "code",
   "execution_count": 4,
   "id": "f494a5c1-c634-439a-a894-1df27b4b0b76",
   "metadata": {},
   "outputs": [
    {
     "name": "stdout",
     "output_type": "stream",
     "text": [
      "1\n"
     ]
    }
   ],
   "source": [
    "remainder=10%3\n",
    "print(remainder)"
   ]
  },
  {
   "cell_type": "code",
   "execution_count": null,
   "id": "98a9ace6-891d-4b5c-a591-eaadefc3bba8",
   "metadata": {},
   "outputs": [],
   "source": []
  },
  {
   "cell_type": "markdown",
   "id": "b3004f25-f71f-4bd7-aca1-cf5758573957",
   "metadata": {},
   "source": [
    "(iii) '//':Floor Division Operator,It performs floor division,which means it returns the quotient of the division operation rounded down to the nearest integer."
   ]
  },
  {
   "cell_type": "code",
   "execution_count": 5,
   "id": "5f85c075-07a5-47b7-9134-d714d84fa575",
   "metadata": {},
   "outputs": [
    {
     "name": "stdout",
     "output_type": "stream",
     "text": [
      "3\n"
     ]
    }
   ],
   "source": [
    "result=10//3\n",
    "print(result)"
   ]
  },
  {
   "cell_type": "code",
   "execution_count": null,
   "id": "bf5e9a6a-786b-4329-bcd4-b0593e4d584f",
   "metadata": {},
   "outputs": [],
   "source": []
  },
  {
   "cell_type": "markdown",
   "id": "07cfde8f-7a0c-409c-a200-e4d2e18b8175",
   "metadata": {},
   "source": [
    "(iv)'**':Exponentiation Operator,it is used for exponentiation.It raises the left operand to the power of the right operand."
   ]
  },
  {
   "cell_type": "code",
   "execution_count": 6,
   "id": "100e86b2-1d1a-4c34-bcbb-e2f862e26661",
   "metadata": {},
   "outputs": [
    {
     "name": "stdout",
     "output_type": "stream",
     "text": [
      "8\n"
     ]
    }
   ],
   "source": [
    "result=2**3\n",
    "print(result)"
   ]
  },
  {
   "cell_type": "code",
   "execution_count": null,
   "id": "75f264f1-d538-4301-a931-a1cabd34e0b2",
   "metadata": {},
   "outputs": [],
   "source": []
  },
  {
   "cell_type": "markdown",
   "id": "1a4339b6-29b5-4210-bab8-f734355a16d9",
   "metadata": {},
   "source": [
    "Q4. Create a list of length 10 of your choice containing multiple types of data. Using for loop print the\n",
    "element and its data type."
   ]
  },
  {
   "cell_type": "code",
   "execution_count": 9,
   "id": "49c2bafd-5602-4065-b458-558d023428df",
   "metadata": {},
   "outputs": [
    {
     "name": "stdout",
     "output_type": "stream",
     "text": [
      "Element:1,data Type: <class 'int'>\n",
      "Element:hello,data Type: <class 'str'>\n",
      "Element:3.14,data Type: <class 'float'>\n",
      "Element:True,data Type: <class 'bool'>\n",
      "Element:[1, 2, 3],data Type: <class 'list'>\n",
      "Element:{'key': 'value'},data Type: <class 'dict'>\n",
      "Element:(4, 5),data Type: <class 'tuple'>\n",
      "Element:None,data Type: <class 'NoneType'>\n",
      "Element:False,data Type: <class 'bool'>\n",
      "Element:world,data Type: <class 'str'>\n"
     ]
    }
   ],
   "source": [
    "my_list=[1, 'hello',3.14,True,[1,2,3],{\"key\":'value'},(4,5),None,False,'world']\n",
    "\n",
    "for element in my_list:\n",
    "    print(f\"Element:{element},data Type: {type(element)}\")"
   ]
  },
  {
   "cell_type": "code",
   "execution_count": null,
   "id": "44fd0da5-8ab7-4f26-9b5a-ca14d8d60763",
   "metadata": {},
   "outputs": [],
   "source": []
  },
  {
   "cell_type": "markdown",
   "id": "897a703b-dacc-44d1-9564-0299ea6ffa6b",
   "metadata": {},
   "source": [
    "Q5. Using a while loop, verify if the number A is purely divisible by number B and if so then how many\n",
    "times it can be divisible."
   ]
  },
  {
   "cell_type": "code",
   "execution_count": 10,
   "id": "44901e1b-8881-4063-b690-74a654a10f3e",
   "metadata": {},
   "outputs": [
    {
     "name": "stdin",
     "output_type": "stream",
     "text": [
      "enter number=A: 6\n",
      "enter number=B: 2\n"
     ]
    },
    {
     "name": "stdout",
     "output_type": "stream",
     "text": [
      "3 is purely divisible by 2 and can be divided 1 times.\n"
     ]
    }
   ],
   "source": [
    "A=int(input(\"enter number=A:\"))\n",
    "B=int(input(\"enter number=B:\"))\n",
    "\n",
    "count=0\n",
    "while A%B==0:\n",
    "    A=A//B\n",
    "    count+=1\n",
    "    \n",
    "if count > 0:\n",
    "    print(f\"{A} is purely divisible by {B} and can be divided {count} times.\")\n",
    "else:\n",
    "    print(f\"{A} is not purely divisible by {B}\")\n",
    "    "
   ]
  },
  {
   "cell_type": "code",
   "execution_count": null,
   "id": "dd6e92da-f7ed-445b-8a47-f2cecff0e48a",
   "metadata": {},
   "outputs": [],
   "source": []
  },
  {
   "cell_type": "markdown",
   "id": "6649bea7-38a1-49ba-bca1-b7dc59dab44b",
   "metadata": {},
   "source": [
    "Q6. Create a list containing 25 int type data. Using for loop and if-else condition print if the element is\n",
    "divisible by 3 or not."
   ]
  },
  {
   "cell_type": "code",
   "execution_count": 13,
   "id": "e4abefc7-e42f-4965-a687-577029655540",
   "metadata": {},
   "outputs": [
    {
     "name": "stdout",
     "output_type": "stream",
     "text": [
      "1 is not divisible by 3.\n",
      "2 is not divisible by 3.\n",
      "3 is divisible by 3.\n",
      "4 is not divisible by 3.\n",
      "5 is not divisible by 3.\n",
      "6 is divisible by 3.\n",
      "7 is not divisible by 3.\n",
      "8 is not divisible by 3.\n",
      "9 is divisible by 3.\n",
      "10 is not divisible by 3.\n",
      "11 is not divisible by 3.\n",
      "12 is divisible by 3.\n",
      "13 is not divisible by 3.\n",
      "14 is not divisible by 3.\n",
      "15 is divisible by 3.\n",
      "16 is not divisible by 3.\n",
      "17 is not divisible by 3.\n",
      "18 is divisible by 3.\n",
      "19 is not divisible by 3.\n",
      "20 is not divisible by 3.\n",
      "21 is divisible by 3.\n",
      "22 is not divisible by 3.\n",
      "23 is not divisible by 3.\n",
      "24 is divisible by 3.\n",
      "25 is not divisible by 3.\n"
     ]
    }
   ],
   "source": [
    "my_list=[i for i in range(1,26)]\n",
    "for num in my_list:\n",
    "    if num % 3 == 0:\n",
    "        print(f\"{num} is divisible by 3.\")\n",
    "    else:\n",
    "        print(f\"{num} is not divisible by 3.\")"
   ]
  },
  {
   "cell_type": "code",
   "execution_count": null,
   "id": "177d1981-a4d8-4476-9e77-6024c3fb5991",
   "metadata": {},
   "outputs": [],
   "source": []
  },
  {
   "cell_type": "markdown",
   "id": "3f301bb7-c228-4e9e-aaaa-f3c9fc02e25d",
   "metadata": {},
   "source": [
    "Q7. What do you understand about mutable and immutable data types? Give examples for both showing\n",
    "this property."
   ]
  },
  {
   "cell_type": "markdown",
   "id": "77282813-2e2b-46dc-87d2-002ecca4ba90",
   "metadata": {},
   "source": [
    "Immutable Data Types:\n",
    "    \n",
    "Immutable data types are those whose values cannot be changed after they are created. Examples of immutable data types in python include integers,floats,strings,tuples,and frozensets.When you modify an immutable object, a new object is created with the modified value."
   ]
  },
  {
   "cell_type": "code",
   "execution_count": 15,
   "id": "51b9f21d-430d-4a36-af92-a796556c3194",
   "metadata": {},
   "outputs": [
    {
     "name": "stdout",
     "output_type": "stream",
     "text": [
      "Original value of x: 10\n",
      "Modified value of x: 20\n"
     ]
    }
   ],
   "source": [
    "x=10\n",
    "print(\"Original value of x:\",x)\n",
    "x=20\n",
    "print(\"Modified value of x:\",x)"
   ]
  },
  {
   "cell_type": "code",
   "execution_count": null,
   "id": "59a36385-1331-4c05-8e77-88195bb1abb2",
   "metadata": {},
   "outputs": [],
   "source": []
  },
  {
   "cell_type": "markdown",
   "id": "ea1dd6c4-0957-4f14-9fea-26343e963374",
   "metadata": {},
   "source": [
    "Mutable Data Types:\n",
    "    \n",
    "Mutable data types are those whose values can be changed after they are created.Examples of mutable data types in python include lists, dictionaries,sets,and bytr arrays.When you modify a mutable object,the changes are reflected in the original object itself."
   ]
  },
  {
   "cell_type": "code",
   "execution_count": 17,
   "id": "cdd66ee3-1053-4eb3-9662-b7861cde38a6",
   "metadata": {},
   "outputs": [
    {
     "name": "stdout",
     "output_type": "stream",
     "text": [
      "Original list: [1, 2, 3]\n",
      "Modified list: [1, 2, 3, 4]\n"
     ]
    }
   ],
   "source": [
    "my_list = [1,2,3]\n",
    "print(\"Original list:\", my_list)\n",
    "\n",
    "my_list.append(4)\n",
    "print(\"Modified list:\",my_list)"
   ]
  }
 ],
 "metadata": {
  "kernelspec": {
   "display_name": "Python 3 (ipykernel)",
   "language": "python",
   "name": "python3"
  },
  "language_info": {
   "codemirror_mode": {
    "name": "ipython",
    "version": 3
   },
   "file_extension": ".py",
   "mimetype": "text/x-python",
   "name": "python",
   "nbconvert_exporter": "python",
   "pygments_lexer": "ipython3",
   "version": "3.10.8"
  }
 },
 "nbformat": 4,
 "nbformat_minor": 5
}
